{
 "cells": [
  {
   "cell_type": "markdown",
   "metadata": {},
   "source": [
    "# The Hacker Within: ggplot2\n",
    "\n",
    "This notebook contains the materials for the Hacker Within ggplot session at BIDS on November 1 2017. These materials were prepared by Rebecca Barter."
   ]
  },
  {
   "cell_type": "markdown",
   "metadata": {},
   "source": [
    "## Useful resources for learning ggplot2\n",
    "\n",
    "- *ggplot2* book ((link)[https://www.amazon.com/dp/0387981403/ref=cm_sw_su_dp?tag=ggplot2-20]) by Hadley Wickham\n",
    "- *The layered grammar of graphics* ((link)[http://vita.had.co.nz/papers/layered-grammar.pdf]) by Hadley Wickham"
   ]
  },
  {
   "cell_type": "markdown",
   "metadata": {},
   "source": [
    "## Materials outline\n",
    "\n",
    "I will begin by providing an overview of the layered grammar of graphics upon which ggplot2 is built. I will then teach ggplot2 by layering examples ontop of one another. Finally, I will introduce some advanced topics such as faceting.\n",
    "\n",
    "1. Layered grammar of graphics\n",
    "\n",
    "1. Basic ggplot2 plot types\n",
    "\n",
    "1. Scales, axes, legends and positioning\n",
    "\n",
    "1. Themes: deviating from the defaults to produce beautiful graphics\n",
    "\n",
    "1. Advanced ggplot2 topics "
   ]
  },
  {
   "cell_type": "code",
   "execution_count": null,
   "metadata": {
    "collapsed": true
   },
   "outputs": [],
   "source": []
  }
 ],
 "metadata": {
  "kernelspec": {
   "display_name": "R",
   "language": "R",
   "name": "ir"
  },
  "language_info": {
   "codemirror_mode": "r",
   "file_extension": ".r",
   "mimetype": "text/x-r-source",
   "name": "R",
   "pygments_lexer": "r",
   "version": "3.3.2"
  }
 },
 "nbformat": 4,
 "nbformat_minor": 2
}
